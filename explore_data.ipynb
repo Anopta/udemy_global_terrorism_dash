{
 "metadata": {
  "language_info": {
   "codemirror_mode": {
    "name": "ipython",
    "version": 3
   },
   "file_extension": ".py",
   "mimetype": "text/x-python",
   "name": "python",
   "nbconvert_exporter": "python",
   "pygments_lexer": "ipython3",
   "version": "3.9.2-final"
  },
  "orig_nbformat": 2,
  "kernelspec": {
   "name": "python3",
   "display_name": "Python 3.9.2 64-bit",
   "metadata": {
    "interpreter": {
     "hash": "4968616242b12205732e0bb9392dd184d3a0818a6aa7d3a096f6e3a74afccf42"
    }
   }
  }
 },
 "nbformat": 4,
 "nbformat_minor": 2,
 "cells": [
  {
   "source": [
    "## Explore data"
   ],
   "cell_type": "markdown",
   "metadata": {}
  },
  {
   "cell_type": "code",
   "execution_count": 2,
   "metadata": {},
   "outputs": [],
   "source": [
    "import pandas as pd"
   ]
  },
  {
   "cell_type": "code",
   "execution_count": 3,
   "metadata": {},
   "outputs": [
    {
     "output_type": "execute_result",
     "data": {
      "text/plain": [
       "                         region_txt         country_txt        provstate  \\\n",
       "0       Central America & Caribbean  Dominican Republic              NaN   \n",
       "1                     North America              Mexico          Federal   \n",
       "2                    Southeast Asia         Philippines           Tarlac   \n",
       "3                    Western Europe              Greece           Attica   \n",
       "4                         East Asia               Japan          Fukouka   \n",
       "...                             ...                 ...              ...   \n",
       "181686           Sub-Saharan Africa             Somalia  Middle Shebelle   \n",
       "181687   Middle East & North Africa               Syria         Lattakia   \n",
       "181688               Southeast Asia         Philippines      Maguindanao   \n",
       "181689                   South Asia               India          Manipur   \n",
       "181690               Southeast Asia         Philippines      Maguindanao   \n",
       "\n",
       "                 city  iyear   latitude   longitude  nkill  nwound  \\\n",
       "0       Santo Domingo   1970  18.456792  -69.951164    1.0     0.0   \n",
       "1         Mexico city   1970  19.371887  -99.086624    0.0     0.0   \n",
       "2             Unknown   1970  15.478598  120.599741    1.0     0.0   \n",
       "3              Athens   1970  37.997490   23.762728    NaN     NaN   \n",
       "4             Fukouka   1970  33.580412  130.396361    NaN     NaN   \n",
       "...               ...    ...        ...         ...    ...     ...   \n",
       "181686  Ceelka Geelow   2017   2.359673   45.385034    1.0     2.0   \n",
       "181687         Jableh   2017  35.407278   35.942679    2.0     7.0   \n",
       "181688       Kubentog   2017   6.900742  124.437908    0.0     0.0   \n",
       "181689         Imphal   2017  24.798346   93.940430    0.0     0.0   \n",
       "181690  Cotabato City   2017   7.209594  124.241966    0.0     0.0   \n",
       "\n",
       "        attacktype1  \n",
       "0                 1  \n",
       "1                 6  \n",
       "2                 1  \n",
       "3                 3  \n",
       "4                 7  \n",
       "...             ...  \n",
       "181686            2  \n",
       "181687            3  \n",
       "181688            7  \n",
       "181689            3  \n",
       "181690            3  \n",
       "\n",
       "[181691 rows x 10 columns]"
      ],
      "text/html": "<div>\n<style scoped>\n    .dataframe tbody tr th:only-of-type {\n        vertical-align: middle;\n    }\n\n    .dataframe tbody tr th {\n        vertical-align: top;\n    }\n\n    .dataframe thead th {\n        text-align: right;\n    }\n</style>\n<table border=\"1\" class=\"dataframe\">\n  <thead>\n    <tr style=\"text-align: right;\">\n      <th></th>\n      <th>region_txt</th>\n      <th>country_txt</th>\n      <th>provstate</th>\n      <th>city</th>\n      <th>iyear</th>\n      <th>latitude</th>\n      <th>longitude</th>\n      <th>nkill</th>\n      <th>nwound</th>\n      <th>attacktype1</th>\n    </tr>\n  </thead>\n  <tbody>\n    <tr>\n      <th>0</th>\n      <td>Central America &amp; Caribbean</td>\n      <td>Dominican Republic</td>\n      <td>NaN</td>\n      <td>Santo Domingo</td>\n      <td>1970</td>\n      <td>18.456792</td>\n      <td>-69.951164</td>\n      <td>1.0</td>\n      <td>0.0</td>\n      <td>1</td>\n    </tr>\n    <tr>\n      <th>1</th>\n      <td>North America</td>\n      <td>Mexico</td>\n      <td>Federal</td>\n      <td>Mexico city</td>\n      <td>1970</td>\n      <td>19.371887</td>\n      <td>-99.086624</td>\n      <td>0.0</td>\n      <td>0.0</td>\n      <td>6</td>\n    </tr>\n    <tr>\n      <th>2</th>\n      <td>Southeast Asia</td>\n      <td>Philippines</td>\n      <td>Tarlac</td>\n      <td>Unknown</td>\n      <td>1970</td>\n      <td>15.478598</td>\n      <td>120.599741</td>\n      <td>1.0</td>\n      <td>0.0</td>\n      <td>1</td>\n    </tr>\n    <tr>\n      <th>3</th>\n      <td>Western Europe</td>\n      <td>Greece</td>\n      <td>Attica</td>\n      <td>Athens</td>\n      <td>1970</td>\n      <td>37.997490</td>\n      <td>23.762728</td>\n      <td>NaN</td>\n      <td>NaN</td>\n      <td>3</td>\n    </tr>\n    <tr>\n      <th>4</th>\n      <td>East Asia</td>\n      <td>Japan</td>\n      <td>Fukouka</td>\n      <td>Fukouka</td>\n      <td>1970</td>\n      <td>33.580412</td>\n      <td>130.396361</td>\n      <td>NaN</td>\n      <td>NaN</td>\n      <td>7</td>\n    </tr>\n    <tr>\n      <th>...</th>\n      <td>...</td>\n      <td>...</td>\n      <td>...</td>\n      <td>...</td>\n      <td>...</td>\n      <td>...</td>\n      <td>...</td>\n      <td>...</td>\n      <td>...</td>\n      <td>...</td>\n    </tr>\n    <tr>\n      <th>181686</th>\n      <td>Sub-Saharan Africa</td>\n      <td>Somalia</td>\n      <td>Middle Shebelle</td>\n      <td>Ceelka Geelow</td>\n      <td>2017</td>\n      <td>2.359673</td>\n      <td>45.385034</td>\n      <td>1.0</td>\n      <td>2.0</td>\n      <td>2</td>\n    </tr>\n    <tr>\n      <th>181687</th>\n      <td>Middle East &amp; North Africa</td>\n      <td>Syria</td>\n      <td>Lattakia</td>\n      <td>Jableh</td>\n      <td>2017</td>\n      <td>35.407278</td>\n      <td>35.942679</td>\n      <td>2.0</td>\n      <td>7.0</td>\n      <td>3</td>\n    </tr>\n    <tr>\n      <th>181688</th>\n      <td>Southeast Asia</td>\n      <td>Philippines</td>\n      <td>Maguindanao</td>\n      <td>Kubentog</td>\n      <td>2017</td>\n      <td>6.900742</td>\n      <td>124.437908</td>\n      <td>0.0</td>\n      <td>0.0</td>\n      <td>7</td>\n    </tr>\n    <tr>\n      <th>181689</th>\n      <td>South Asia</td>\n      <td>India</td>\n      <td>Manipur</td>\n      <td>Imphal</td>\n      <td>2017</td>\n      <td>24.798346</td>\n      <td>93.940430</td>\n      <td>0.0</td>\n      <td>0.0</td>\n      <td>3</td>\n    </tr>\n    <tr>\n      <th>181690</th>\n      <td>Southeast Asia</td>\n      <td>Philippines</td>\n      <td>Maguindanao</td>\n      <td>Cotabato City</td>\n      <td>2017</td>\n      <td>7.209594</td>\n      <td>124.241966</td>\n      <td>0.0</td>\n      <td>0.0</td>\n      <td>3</td>\n    </tr>\n  </tbody>\n</table>\n<p>181691 rows × 10 columns</p>\n</div>"
     },
     "metadata": {},
     "execution_count": 3
    }
   ],
   "source": [
    "terr2 = pd.read_csv(\"data/global_terrorism.csv\")\n",
    "terr2"
   ]
  }
 ]
}